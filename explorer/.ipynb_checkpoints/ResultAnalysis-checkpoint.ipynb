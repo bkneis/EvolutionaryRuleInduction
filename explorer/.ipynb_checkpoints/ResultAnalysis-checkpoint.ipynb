{
 "cells": [
  {
   "cell_type": "markdown",
   "metadata": {},
   "source": [
    "##### Get all the csvs in the directory and get the last one (most recent) and calculat the max and mean results"
   ]
  },
  {
   "cell_type": "code",
   "execution_count": 1,
   "metadata": {},
   "outputs": [
    {
     "ename": "TypeError",
     "evalue": "'newline' is an invalid keyword argument for this function",
     "output_type": "error",
     "traceback": [
      "\u001b[0;31m---------------------------------------------------------------------------\u001b[0m",
      "\u001b[0;31mTypeError\u001b[0m                                 Traceback (most recent call last)",
      "\u001b[0;32m<ipython-input-1-65de92ca7efc>\u001b[0m in \u001b[0;36m<module>\u001b[0;34m()\u001b[0m\n\u001b[1;32m     17\u001b[0m \u001b[0;34m\u001b[0m\u001b[0m\n\u001b[1;32m     18\u001b[0m \u001b[0;32mfor\u001b[0m \u001b[0mfile\u001b[0m \u001b[0;32min\u001b[0m \u001b[0mfiles\u001b[0m\u001b[0;34m:\u001b[0m\u001b[0;34m\u001b[0m\u001b[0m\n\u001b[0;32m---> 19\u001b[0;31m     \u001b[0;32mwith\u001b[0m \u001b[0mopen\u001b[0m\u001b[0;34m(\u001b[0m\u001b[0mfiles\u001b[0m\u001b[0;34m[\u001b[0m\u001b[0;34m-\u001b[0m\u001b[0;36m1\u001b[0m\u001b[0;34m]\u001b[0m\u001b[0;34m,\u001b[0m \u001b[0mnewline\u001b[0m\u001b[0;34m=\u001b[0m\u001b[0;34m''\u001b[0m\u001b[0;34m)\u001b[0m \u001b[0;32mas\u001b[0m \u001b[0mcsvfile\u001b[0m\u001b[0;34m:\u001b[0m\u001b[0;34m\u001b[0m\u001b[0m\n\u001b[0m\u001b[1;32m     20\u001b[0m         \u001b[0mmaxes\u001b[0m \u001b[0;34m=\u001b[0m \u001b[0;34m[\u001b[0m\u001b[0;34m]\u001b[0m\u001b[0;34m\u001b[0m\u001b[0m\n\u001b[1;32m     21\u001b[0m         \u001b[0mmeans\u001b[0m \u001b[0;34m=\u001b[0m \u001b[0;34m[\u001b[0m\u001b[0;34m]\u001b[0m\u001b[0;34m\u001b[0m\u001b[0m\n",
      "\u001b[0;31mTypeError\u001b[0m: 'newline' is an invalid keyword argument for this function"
     ]
    }
   ],
   "source": [
    "# Get the list of csv's\n",
    "import glob\n",
    "import csv\n",
    "files = glob.glob(\"/home/arthur/CLionProjects/GeneticAlgorithm/results/*.csv\")\n",
    "\n",
    "# Get the values for the latest run\n",
    "totalMaxes = []\n",
    "totalMeans = []\n",
    "\n",
    "for i in range(0, 499):\n",
    "    totalMaxes.append(0)\n",
    "    totalMeans.append(0)\n",
    "    \n",
    "numFiles = len(files)\n",
    "\n",
    "config = []\n",
    "\n",
    "for file in files:\n",
    "    with open(file, newline='') as csvfile:\n",
    "        maxes = []\n",
    "        means = []\n",
    "        spamreader = csv.reader(csvfile, delimiter=' ', quotechar='|')\n",
    "        for idx, row in enumerate(spamreader):\n",
    "            if idx == 0:\n",
    "                config = row[0].split(',')\n",
    "                continue\n",
    "            row = row[0].split(',')    \n",
    "            maxes.append(row[0])\n",
    "            means.append(row[1])\n",
    "        for idx, amount in enumerate(maxes):\n",
    "            totalMaxes[idx] += int(amount)\n",
    "        for idx, amount in enumerate(means):\n",
    "            totalMeans[idx] += int(amount)\n",
    "\n",
    "avgMaxes = []\n",
    "avgMeans = []\n",
    "for amount in totalMaxes:\n",
    "    avgMaxes.append(float(amount) / float(numFiles))\n",
    "for amount in totalMeans:\n",
    "    avgMeans.append(float(amount) / float(numFiles))\n"
   ]
  },
  {
   "cell_type": "markdown",
   "metadata": {},
   "source": [
    "##### Plot the results"
   ]
  },
  {
   "cell_type": "code",
   "execution_count": 18,
   "metadata": {},
   "outputs": [
    {
     "name": "stdout",
     "output_type": "stream",
     "text": [
      "Parameters of GA:\n",
      "Number of generations: 500\n",
      "Number of chromosones: 130\n",
      "Size of population: 500\n",
      "Probability of crossover: 100\n",
      "Probability of mutation: 823\n"
     ]
    },
    {
     "data": {
      "image/png": "[encoded data removed]",
      "text/plain": [
       "<matplotlib.figure.Figure at 0x7fac353e5eb8>"
      ]
     },
     "metadata": {},
     "output_type": "display_data"
    }
   ],
   "source": [
    "print('Parameters of GA:')\n",
    "print('Number of generations: %s' % config[0])\n",
    "print('Number of chromosones: %s' % config[1])\n",
    "print('Size of population: %s' % config[2])\n",
    "print('Probability of crossover: %s' % config[3])\n",
    "print('Probability of mutation: %s' % config[4])\n",
    "\n",
    "import matplotlib.pyplot as plt\n",
    "import numpy as np\n",
    "fig = plt.figure()\n",
    "fig.suptitle('Mean / Max fitness over generations', fontsize=14, fontweight='bold')\n",
    "plt.plot(range(0, len(avgMaxes)), avgMaxes)\n",
    "plt.plot(range(0, len(avgMeans)), avgMeans)\n",
    "plt.ylabel('Fitness')\n",
    "plt.xlabel('Generations')\n",
    "plt.show()\n",
    "fig.savefig('/home/arthur/charts/chart.png')"
   ]
  }
 ],
 "metadata": {
  "kernelspec": {
   "display_name": "Python 2",
   "language": "python",
   "name": "python2"
  },
  "language_info": {
   "codemirror_mode": {
    "name": "ipython",
    "version": 2
   },
   "file_extension": ".py",
   "mimetype": "text/x-python",
   "name": "python",
   "nbconvert_exporter": "python",
   "pygments_lexer": "ipython2",
   "version": "2.7.13"
  }
 },
 "nbformat": 4,
 "nbformat_minor": 2
}
